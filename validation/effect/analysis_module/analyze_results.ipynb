{
 "cells": [
  {
   "cell_type": "code",
   "execution_count": null,
   "metadata": {},
   "outputs": [],
   "source": [
    "import pandas as pd\n",
    "import plotly.express as px\n",
    "from datetime import datetime, timedelta"
   ]
  },
  {
   "cell_type": "code",
   "execution_count": null,
   "metadata": {},
   "outputs": [],
   "source": [
    "PER_PACKET_COLS = ['_time', 'packet_interarrival_time', 'packet_jitter_raw', 'packet_jitter_weighted', 'packet_owd']\n",
    "AGGREGATE_COLS  = ['_time', 'availability_2ms', 'availability_4ms', 'availability_8ms', 'availability_16ms', 'availability_32ms', 'availability_64ms', 'availability_128ms', 'packet_loss', 'throughput']"
   ]
  },
  {
   "cell_type": "code",
   "execution_count": null,
   "metadata": {},
   "outputs": [],
   "source": [
    "FILE_PATH = \"/home/shared/validation_files/csvs/results\"\n",
    "df1, df2, df3 = pd.read_csv(f\"{FILE_PATH}/analysis_validation_one.csv\", skiprows=3),\\\n",
    "                pd.read_csv(f\"{FILE_PATH}/analysis_validation_two.csv\", skiprows=3),\\\n",
    "                pd.read_csv(f\"{FILE_PATH}/analysis_validation_three.csv\", skiprows=3)\n",
    "\n",
    "df_aggregate1, df_aggregate2, df_aggregate3 = pd.read_csv(f\"{FILE_PATH}/analysis_validation_one_aggregate.csv\", skiprows=3),\\\n",
    "                pd.read_csv(f\"{FILE_PATH}/analysis_validation_two_aggregate.csv\", skiprows=3),\\\n",
    "                pd.read_csv(f\"{FILE_PATH}/analysis_validation_three_aggregate.csv\", skiprows=3)"
   ]
  },
  {
   "cell_type": "code",
   "execution_count": null,
   "metadata": {},
   "outputs": [],
   "source": [
    "df1 = df1[PER_PACKET_COLS]\n",
    "df2 = df2[PER_PACKET_COLS]\n",
    "df3 = df3[PER_PACKET_COLS]\n",
    "\n",
    "df_aggregate1 = df_aggregate1[AGGREGATE_COLS]\n",
    "df_aggregate2 = df_aggregate2[AGGREGATE_COLS]\n",
    "df_aggregate3 = df_aggregate3[AGGREGATE_COLS]"
   ]
  },
  {
   "cell_type": "code",
   "execution_count": null,
   "metadata": {},
   "outputs": [],
   "source": [
    "df1.head()"
   ]
  },
  {
   "cell_type": "code",
   "execution_count": null,
   "metadata": {},
   "outputs": [],
   "source": [
    "df_aggregate1.head()"
   ]
  },
  {
   "cell_type": "code",
   "execution_count": null,
   "metadata": {},
   "outputs": [],
   "source": [
    "def parse_timestamp(timestamp_str, with_fraction=True):\n",
    "    if with_fraction:\n",
    "        try:\n",
    "            seconds_part = timestamp_str[:-1].split('.')[0]\n",
    "            fraction_part = timestamp_str[:-1].split('.')[1]\n",
    "        except:\n",
    "            seconds_part = timestamp_str[:-1]\n",
    "            fraction_part = 0\n",
    "    else:\n",
    "        seconds_part = timestamp_str[:-1]\n",
    "\n",
    "    timestamp = datetime.strptime(seconds_part, '%Y-%m-%dT%H:%M:%S')\n",
    "\n",
    "    return timestamp.timestamp() + (float(f\"0.{fraction_part}\") if with_fraction else 0)"
   ]
  },
  {
   "cell_type": "code",
   "execution_count": null,
   "metadata": {},
   "outputs": [],
   "source": [
    "df1['_time'] = df1['_time'].apply(parse_timestamp)\n",
    "df2['_time'] = df2['_time'].apply(parse_timestamp)\n",
    "df3['_time'] = df3['_time'].apply(parse_timestamp)\n",
    "\n",
    "df_aggregate1['_time'] = df_aggregate1['_time'].apply(lambda x: parse_timestamp(x, False))\n",
    "df_aggregate2['_time'] = df_aggregate2['_time'].apply(lambda x: parse_timestamp(x, False))\n",
    "df_aggregate3['_time'] = df_aggregate3['_time'].apply(lambda x: parse_timestamp(x, False))"
   ]
  },
  {
   "cell_type": "code",
   "execution_count": null,
   "metadata": {},
   "outputs": [],
   "source": [
    "def analyze_iat(df):\n",
    "    iat = df['packet_interarrival_time']\n",
    "    mean, std = iat.mean(), iat.std()\n",
    "\n",
    "    return mean, std\n",
    "\n",
    "def analyze_owd(df):\n",
    "    owd = df['packet_owd']\n",
    "    mean, std = owd.mean(), owd.std()\n",
    "\n",
    "    return mean, std\n",
    "\n",
    "def analyze_packet_loss(df):\n",
    "    packet_loss = df['packet_loss']\n",
    "    return packet_loss.mean()\n",
    "\n",
    "def analyze_throughput(df):\n",
    "    throughput = df['throughput']\n",
    "    return throughput.mean()"
   ]
  },
  {
   "cell_type": "code",
   "execution_count": null,
   "metadata": {},
   "outputs": [],
   "source": [
    "print(\"DF1 IAT\")\n",
    "print(f'Expected mean: 0.001, Calculated mean: {analyze_iat(df1)[0]}')\n",
    "print(f'Expected std: 0.0, Calculated std: {analyze_iat(df1)[1]}')\n",
    "print(\"\\n\")\n",
    "\n",
    "print(\"DF2 IAT\")\n",
    "print(f'Expected mean: 0.001, Calculated mean: {analyze_iat(df2)[0]}')\n",
    "print(f'Expected std: 0.0, Calculated std: {analyze_iat(df2)[1]}')\n",
    "print(\"\\n\")\n",
    "\n",
    "print(\"DF3 IAT\")\n",
    "print(f'Expected mean: 0.001, Calculated mean: {analyze_iat(df3)[0]}')\n",
    "print(f'Expected std: 0.0, Calculated std: {analyze_iat(df3)[1]}')\n",
    "print(\"\\n\")"
   ]
  },
  {
   "cell_type": "code",
   "execution_count": null,
   "metadata": {},
   "outputs": [],
   "source": [
    "print(\"DF1 OWD\")\n",
    "print(f'Expected mean: 0.012, Calculated mean: {analyze_owd(df1)[0]}')\n",
    "print(f'Expected std: 0.005, Calculated std: {analyze_owd(df1)[1]}')\n",
    "print(\"\\n\")\n",
    "\n",
    "print(\"DF2 OWD\")\n",
    "print(f'Expected mean: 0.032, Calculated mean: {analyze_owd(df2)[0]}')\n",
    "print(f'Expected std: 0.025, Calculated std: {analyze_owd(df2)[1]}')\n",
    "print(\"\\n\")\n",
    "\n",
    "print(\"DF3 OWD\")\n",
    "print(f'Expected mean: 0.02, Calculated mean: {analyze_owd(df3)[0]}')\n",
    "print(f'Expected std: 0.05, Calculated std: {analyze_owd(df3)[1]}')\n",
    "print(\"\\n\")"
   ]
  },
  {
   "cell_type": "code",
   "execution_count": null,
   "metadata": {},
   "outputs": [],
   "source": [
    "print(\"DF1 Packet loss\")\n",
    "print(f'Expected rate: 0.01, Calculated rate {analyze_packet_loss(df_aggregate1)}')\n",
    "print(\"\\n\")\n",
    "\n",
    "print(\"DF2 Packet loss\")\n",
    "print(f'Expected rate: 0.05, Calculated rate {analyze_packet_loss(df_aggregate2)}')\n",
    "print(\"\\n\")\n",
    "\n",
    "print(\"DF1 Packet loss\")\n",
    "print(f'Expected rate: 0.2, Calculated rate {analyze_packet_loss(df_aggregate3)}')\n",
    "print(\"\\n\")"
   ]
  },
  {
   "cell_type": "code",
   "execution_count": null,
   "metadata": {},
   "outputs": [],
   "source": [
    "print(\"DF1 Throughput\")\n",
    "print(f'Expected rate: 0.01, Calculated rate {analyze_throughput(df_aggregate1)}')\n",
    "print(\"\\n\")\n",
    "\n",
    "print(\"DF2 Throughput\")\n",
    "print(f'Expected rate: 0.05, Calculated rate {analyze_throughput(df_aggregate2)}')\n",
    "print(\"\\n\")\n",
    "\n",
    "print(\"DF1 Throughput\")\n",
    "print(f'Expected rate: 0.2, Calculated rate {analyze_throughput(df_aggregate3)}')\n",
    "print(\"\\n\")"
   ]
  },
  {
   "cell_type": "code",
   "execution_count": null,
   "metadata": {},
   "outputs": [],
   "source": []
  }
 ],
 "metadata": {
  "kernelspec": {
   "display_name": "Python 3",
   "language": "python",
   "name": "python3"
  },
  "language_info": {
   "codemirror_mode": {
    "name": "ipython",
    "version": 3
   },
   "file_extension": ".py",
   "mimetype": "text/x-python",
   "name": "python",
   "nbconvert_exporter": "python",
   "pygments_lexer": "ipython3",
   "version": "3.10.12"
  }
 },
 "nbformat": 4,
 "nbformat_minor": 2
}
