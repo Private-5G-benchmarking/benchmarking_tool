{
 "cells": [
  {
   "cell_type": "code",
   "execution_count": 1,
   "metadata": {},
   "outputs": [
    {
     "name": "stderr",
     "output_type": "stream",
     "text": [
      "/tmp/ipykernel_2701986/254707315.py:1: DeprecationWarning: \n",
      "Pyarrow will become a required dependency of pandas in the next major release of pandas (pandas 3.0),\n",
      "(to allow more performant data types, such as the Arrow string type, and better interoperability with other libraries)\n",
      "but was not found to be installed on your system.\n",
      "If this would cause problems for you,\n",
      "please provide us feedback at https://github.com/pandas-dev/pandas/issues/54466\n",
      "        \n",
      "  import pandas as pd\n"
     ]
    }
   ],
   "source": [
    "import pandas as pd\n",
    "import plotly.express as px\n",
    "from datetime import datetime, timedelta"
   ]
  },
  {
   "cell_type": "code",
   "execution_count": 2,
   "metadata": {},
   "outputs": [],
   "source": [
    "PER_PACKET_COLS = ['_time', 'packet_interarrival_time', 'packet_jitter_raw', 'packet_jitter_weighted', 'packet_owd']\n",
    "AGGREGATE_COLS  = ['_time', 'availability_2ms', 'availability_4ms', 'availability_8ms', 'availability_16ms', 'availability_32ms', 'availability_64ms', 'availability_128ms', 'packet_loss', 'throughput']"
   ]
  },
  {
   "cell_type": "code",
   "execution_count": 3,
   "metadata": {},
   "outputs": [],
   "source": [
    "FILE_PATH = \"/home/shared/validation_files/csvs/results\"\n",
    "df1, df2, df3 = pd.read_csv(f\"{FILE_PATH}/analysis_validation_one.csv\", skiprows=3),\\\n",
    "                pd.read_csv(f\"{FILE_PATH}/analysis_validation_two.csv\", skiprows=3),\\\n",
    "                pd.read_csv(f\"{FILE_PATH}/analysis_validation_three.csv\", skiprows=3)\n",
    "\n",
    "df_aggregate1, df_aggregate2, df_aggregate3 = pd.read_csv(f\"{FILE_PATH}/analysis_validation_one_aggregate.csv\", skiprows=3),\\\n",
    "                pd.read_csv(f\"{FILE_PATH}/analysis_validation_two_aggregate.csv\", skiprows=3),\\\n",
    "                pd.read_csv(f\"{FILE_PATH}/analysis_validation_three_aggregate.csv\", skiprows=3)"
   ]
  },
  {
   "cell_type": "code",
   "execution_count": 4,
   "metadata": {},
   "outputs": [],
   "source": [
    "df1 = df1[PER_PACKET_COLS]\n",
    "df2 = df2[PER_PACKET_COLS]\n",
    "df3 = df3[PER_PACKET_COLS]\n",
    "\n",
    "df_aggregate1 = df_aggregate1[AGGREGATE_COLS]\n",
    "df_aggregate2 = df_aggregate2[AGGREGATE_COLS]\n",
    "df_aggregate3 = df_aggregate3[AGGREGATE_COLS]"
   ]
  },
  {
   "cell_type": "code",
   "execution_count": 5,
   "metadata": {},
   "outputs": [
    {
     "data": {
      "text/html": [
       "<div>\n",
       "<style scoped>\n",
       "    .dataframe tbody tr th:only-of-type {\n",
       "        vertical-align: middle;\n",
       "    }\n",
       "\n",
       "    .dataframe tbody tr th {\n",
       "        vertical-align: top;\n",
       "    }\n",
       "\n",
       "    .dataframe thead th {\n",
       "        text-align: right;\n",
       "    }\n",
       "</style>\n",
       "<table border=\"1\" class=\"dataframe\">\n",
       "  <thead>\n",
       "    <tr style=\"text-align: right;\">\n",
       "      <th></th>\n",
       "      <th>_time</th>\n",
       "      <th>packet_interarrival_time</th>\n",
       "      <th>packet_jitter_raw</th>\n",
       "      <th>packet_jitter_weighted</th>\n",
       "      <th>packet_owd</th>\n",
       "    </tr>\n",
       "  </thead>\n",
       "  <tbody>\n",
       "    <tr>\n",
       "      <th>0</th>\n",
       "      <td>1970-01-01T00:00:00.001Z</td>\n",
       "      <td>0.001</td>\n",
       "      <td>0.008646</td>\n",
       "      <td>0.000540</td>\n",
       "      <td>0.019470</td>\n",
       "    </tr>\n",
       "    <tr>\n",
       "      <th>1</th>\n",
       "      <td>1970-01-01T00:00:00.002Z</td>\n",
       "      <td>0.001</td>\n",
       "      <td>-0.009839</td>\n",
       "      <td>0.001122</td>\n",
       "      <td>0.009631</td>\n",
       "    </tr>\n",
       "    <tr>\n",
       "      <th>2</th>\n",
       "      <td>1970-01-01T00:00:00.003Z</td>\n",
       "      <td>0.001</td>\n",
       "      <td>0.010996</td>\n",
       "      <td>0.001739</td>\n",
       "      <td>0.020627</td>\n",
       "    </tr>\n",
       "    <tr>\n",
       "      <th>3</th>\n",
       "      <td>1970-01-01T00:00:00.004Z</td>\n",
       "      <td>0.001</td>\n",
       "      <td>-0.009686</td>\n",
       "      <td>0.002235</td>\n",
       "      <td>0.010941</td>\n",
       "    </tr>\n",
       "    <tr>\n",
       "      <th>4</th>\n",
       "      <td>1970-01-01T00:00:00.005Z</td>\n",
       "      <td>0.001</td>\n",
       "      <td>-0.006977</td>\n",
       "      <td>0.002532</td>\n",
       "      <td>0.003964</td>\n",
       "    </tr>\n",
       "  </tbody>\n",
       "</table>\n",
       "</div>"
      ],
      "text/plain": [
       "                      _time  packet_interarrival_time  packet_jitter_raw  \\\n",
       "0  1970-01-01T00:00:00.001Z                     0.001           0.008646   \n",
       "1  1970-01-01T00:00:00.002Z                     0.001          -0.009839   \n",
       "2  1970-01-01T00:00:00.003Z                     0.001           0.010996   \n",
       "3  1970-01-01T00:00:00.004Z                     0.001          -0.009686   \n",
       "4  1970-01-01T00:00:00.005Z                     0.001          -0.006977   \n",
       "\n",
       "   packet_jitter_weighted  packet_owd  \n",
       "0                0.000540    0.019470  \n",
       "1                0.001122    0.009631  \n",
       "2                0.001739    0.020627  \n",
       "3                0.002235    0.010941  \n",
       "4                0.002532    0.003964  "
      ]
     },
     "execution_count": 5,
     "metadata": {},
     "output_type": "execute_result"
    }
   ],
   "source": [
    "df1.head()"
   ]
  },
  {
   "cell_type": "code",
   "execution_count": 6,
   "metadata": {},
   "outputs": [
    {
     "data": {
      "text/html": [
       "<div>\n",
       "<style scoped>\n",
       "    .dataframe tbody tr th:only-of-type {\n",
       "        vertical-align: middle;\n",
       "    }\n",
       "\n",
       "    .dataframe tbody tr th {\n",
       "        vertical-align: top;\n",
       "    }\n",
       "\n",
       "    .dataframe thead th {\n",
       "        text-align: right;\n",
       "    }\n",
       "</style>\n",
       "<table border=\"1\" class=\"dataframe\">\n",
       "  <thead>\n",
       "    <tr style=\"text-align: right;\">\n",
       "      <th></th>\n",
       "      <th>_time</th>\n",
       "      <th>availability_2ms</th>\n",
       "      <th>availability_4ms</th>\n",
       "      <th>availability_8ms</th>\n",
       "      <th>availability_16ms</th>\n",
       "      <th>availability_32ms</th>\n",
       "      <th>availability_64ms</th>\n",
       "      <th>availability_128ms</th>\n",
       "      <th>packet_loss</th>\n",
       "      <th>throughput</th>\n",
       "    </tr>\n",
       "  </thead>\n",
       "  <tbody>\n",
       "    <tr>\n",
       "      <th>0</th>\n",
       "      <td>1970-01-01T00:00:00Z</td>\n",
       "      <td>0.014</td>\n",
       "      <td>0.043</td>\n",
       "      <td>0.198</td>\n",
       "      <td>0.769</td>\n",
       "      <td>0.982</td>\n",
       "      <td>0.982</td>\n",
       "      <td>0.982</td>\n",
       "      <td>0.012</td>\n",
       "      <td>458432</td>\n",
       "    </tr>\n",
       "    <tr>\n",
       "      <th>1</th>\n",
       "      <td>1970-01-01T00:00:01Z</td>\n",
       "      <td>0.013</td>\n",
       "      <td>0.040</td>\n",
       "      <td>0.208</td>\n",
       "      <td>0.752</td>\n",
       "      <td>0.974</td>\n",
       "      <td>0.974</td>\n",
       "      <td>0.974</td>\n",
       "      <td>0.011</td>\n",
       "      <td>458896</td>\n",
       "    </tr>\n",
       "    <tr>\n",
       "      <th>2</th>\n",
       "      <td>1970-01-01T00:00:02Z</td>\n",
       "      <td>0.013</td>\n",
       "      <td>0.052</td>\n",
       "      <td>0.206</td>\n",
       "      <td>0.774</td>\n",
       "      <td>0.986</td>\n",
       "      <td>0.986</td>\n",
       "      <td>0.986</td>\n",
       "      <td>0.009</td>\n",
       "      <td>459824</td>\n",
       "    </tr>\n",
       "    <tr>\n",
       "      <th>3</th>\n",
       "      <td>1970-01-01T00:00:03Z</td>\n",
       "      <td>0.020</td>\n",
       "      <td>0.042</td>\n",
       "      <td>0.203</td>\n",
       "      <td>0.782</td>\n",
       "      <td>0.981</td>\n",
       "      <td>0.981</td>\n",
       "      <td>0.981</td>\n",
       "      <td>0.009</td>\n",
       "      <td>459824</td>\n",
       "    </tr>\n",
       "    <tr>\n",
       "      <th>4</th>\n",
       "      <td>1970-01-01T00:00:04Z</td>\n",
       "      <td>0.016</td>\n",
       "      <td>0.048</td>\n",
       "      <td>0.182</td>\n",
       "      <td>0.783</td>\n",
       "      <td>0.984</td>\n",
       "      <td>0.984</td>\n",
       "      <td>0.984</td>\n",
       "      <td>0.011</td>\n",
       "      <td>458896</td>\n",
       "    </tr>\n",
       "  </tbody>\n",
       "</table>\n",
       "</div>"
      ],
      "text/plain": [
       "                  _time  availability_2ms  availability_4ms  availability_8ms  \\\n",
       "0  1970-01-01T00:00:00Z             0.014             0.043             0.198   \n",
       "1  1970-01-01T00:00:01Z             0.013             0.040             0.208   \n",
       "2  1970-01-01T00:00:02Z             0.013             0.052             0.206   \n",
       "3  1970-01-01T00:00:03Z             0.020             0.042             0.203   \n",
       "4  1970-01-01T00:00:04Z             0.016             0.048             0.182   \n",
       "\n",
       "   availability_16ms  availability_32ms  availability_64ms  \\\n",
       "0              0.769              0.982              0.982   \n",
       "1              0.752              0.974              0.974   \n",
       "2              0.774              0.986              0.986   \n",
       "3              0.782              0.981              0.981   \n",
       "4              0.783              0.984              0.984   \n",
       "\n",
       "   availability_128ms  packet_loss  throughput  \n",
       "0               0.982        0.012      458432  \n",
       "1               0.974        0.011      458896  \n",
       "2               0.986        0.009      459824  \n",
       "3               0.981        0.009      459824  \n",
       "4               0.984        0.011      458896  "
      ]
     },
     "execution_count": 6,
     "metadata": {},
     "output_type": "execute_result"
    }
   ],
   "source": [
    "df_aggregate1.head()"
   ]
  },
  {
   "cell_type": "code",
   "execution_count": 7,
   "metadata": {},
   "outputs": [],
   "source": [
    "def parse_timestamp(timestamp_str, with_fraction=True):\n",
    "    if with_fraction:\n",
    "        try:\n",
    "            seconds_part = timestamp_str[:-1].split('.')[0]\n",
    "            fraction_part = timestamp_str[:-1].split('.')[1]\n",
    "        except:\n",
    "            seconds_part = timestamp_str[:-1]\n",
    "            fraction_part = 0\n",
    "    else:\n",
    "        seconds_part = timestamp_str[:-1]\n",
    "\n",
    "    timestamp = datetime.strptime(seconds_part, '%Y-%m-%dT%H:%M:%S')\n",
    "\n",
    "    return timestamp.timestamp() + (float(f\"0.{fraction_part}\") if with_fraction else 0)"
   ]
  },
  {
   "cell_type": "code",
   "execution_count": 8,
   "metadata": {},
   "outputs": [],
   "source": [
    "df1['_time'] = df1['_time'].apply(parse_timestamp)\n",
    "df2['_time'] = df2['_time'].apply(parse_timestamp)\n",
    "df3['_time'] = df3['_time'].apply(parse_timestamp)\n",
    "\n",
    "df_aggregate1['_time'] = df_aggregate1['_time'].apply(lambda x: parse_timestamp(x, False))\n",
    "df_aggregate2['_time'] = df_aggregate2['_time'].apply(lambda x: parse_timestamp(x, False))\n",
    "df_aggregate3['_time'] = df_aggregate3['_time'].apply(lambda x: parse_timestamp(x, False))"
   ]
  },
  {
   "cell_type": "code",
   "execution_count": 13,
   "metadata": {},
   "outputs": [],
   "source": [
    "def analyze_iat(df):\n",
    "    iat = df['packet_interarrival_time']\n",
    "    mean, std = iat.mean(), iat.std()\n",
    "\n",
    "    return mean, std\n",
    "\n",
    "def analyze_owd(df):\n",
    "    owd = df['packet_owd']\n",
    "    mean, std = owd.mean(), owd.std()\n",
    "\n",
    "    return mean, std\n",
    "\n",
    "def analyze_packet_loss(df):\n",
    "    packet_loss = df['packet_loss']\n",
    "    return packet_loss.mean()\n",
    "\n",
    "def analyze_throughput(df):\n",
    "    throughput = df['throughput']\n",
    "    return throughput.mean()"
   ]
  },
  {
   "cell_type": "code",
   "execution_count": 10,
   "metadata": {},
   "outputs": [
    {
     "name": "stdout",
     "output_type": "stream",
     "text": [
      "DF1 IAT\n",
      "Expected mean: 0.001, Calculated mean: 0.0009999999999999339\n",
      "Expected std: 0.0, Calculated std: 7.551555220825162e-15\n",
      "\n",
      "\n",
      "DF2 IAT\n",
      "Expected mean: 0.001, Calculated mean: 0.0009999999999999339\n",
      "Expected std: 0.0, Calculated std: 7.551555220825162e-15\n",
      "\n",
      "\n",
      "DF3 IAT\n",
      "Expected mean: 0.001, Calculated mean: 0.0009999999999999339\n",
      "Expected std: 0.0, Calculated std: 7.551555220825162e-15\n",
      "\n",
      "\n"
     ]
    }
   ],
   "source": [
    "print(\"DF1 IAT\")\n",
    "print(f'Expected mean: 0.001, Calculated mean: {analyze_iat(df1)[0]}')\n",
    "print(f'Expected std: 0.0, Calculated std: {analyze_iat(df1)[1]}')\n",
    "print(\"\\n\")\n",
    "\n",
    "print(\"DF2 IAT\")\n",
    "print(f'Expected mean: 0.001, Calculated mean: {analyze_iat(df2)[0]}')\n",
    "print(f'Expected std: 0.0, Calculated std: {analyze_iat(df2)[1]}')\n",
    "print(\"\\n\")\n",
    "\n",
    "print(\"DF3 IAT\")\n",
    "print(f'Expected mean: 0.001, Calculated mean: {analyze_iat(df3)[0]}')\n",
    "print(f'Expected std: 0.0, Calculated std: {analyze_iat(df3)[1]}')\n",
    "print(\"\\n\")"
   ]
  },
  {
   "cell_type": "code",
   "execution_count": 11,
   "metadata": {},
   "outputs": [
    {
     "name": "stdout",
     "output_type": "stream",
     "text": [
      "DF1 OWD\n",
      "Expected mean: 0.012, Calculated mean: 0.012116088017321685\n",
      "Expected std: 0.005, Calculated std: 0.00484894543018884\n",
      "\n",
      "\n",
      "DF2 OWD\n",
      "Expected mean: 0.032, Calculated mean: 0.031030321377471953\n",
      "Expected std: 0.025, Calculated std: 0.00857341985681228\n",
      "\n",
      "\n",
      "DF3 OWD\n",
      "Expected mean: 0.02, Calculated mean: 0.025747144032583283\n",
      "Expected std: 0.05, Calculated std: 0.015847377871993217\n",
      "\n",
      "\n"
     ]
    }
   ],
   "source": [
    "print(\"DF1 OWD\")\n",
    "print(f'Expected mean: 0.012, Calculated mean: {analyze_owd(df1)[0]}')\n",
    "print(f'Expected std: 0.005, Calculated std: {analyze_owd(df1)[1]}')\n",
    "print(\"\\n\")\n",
    "\n",
    "print(\"DF2 OWD\")\n",
    "print(f'Expected mean: 0.032, Calculated mean: {analyze_owd(df2)[0]}')\n",
    "print(f'Expected std: 0.025, Calculated std: {analyze_owd(df2)[1]}')\n",
    "print(\"\\n\")\n",
    "\n",
    "print(\"DF3 OWD\")\n",
    "print(f'Expected mean: 0.02, Calculated mean: {analyze_owd(df3)[0]}')\n",
    "print(f'Expected std: 0.05, Calculated std: {analyze_owd(df3)[1]}')\n",
    "print(\"\\n\")"
   ]
  },
  {
   "cell_type": "code",
   "execution_count": 12,
   "metadata": {},
   "outputs": [
    {
     "name": "stdout",
     "output_type": "stream",
     "text": [
      "DF1 Packet loss\n",
      "Expected rate: 0.01, Calculated rate 0.009970000064931768\n",
      "\n",
      "\n",
      "DF2 Packet loss\n",
      "Expected rate: 0.05, Calculated rate 0.05111999992281193\n",
      "\n",
      "\n",
      "DF1 Packet loss\n",
      "Expected rate: 0.2, Calculated rate 0.19997500009834768\n",
      "\n",
      "\n"
     ]
    }
   ],
   "source": [
    "print(\"DF1 Packet loss\")\n",
    "print(f'Expected rate: 0.01, Calculated rate {analyze_packet_loss(df_aggregate1)}')\n",
    "print(\"\\n\")\n",
    "\n",
    "print(\"DF2 Packet loss\")\n",
    "print(f'Expected rate: 0.05, Calculated rate {analyze_packet_loss(df_aggregate2)}')\n",
    "print(\"\\n\")\n",
    "\n",
    "print(\"DF1 Packet loss\")\n",
    "print(f'Expected rate: 0.2, Calculated rate {analyze_packet_loss(df_aggregate3)}')\n",
    "print(\"\\n\")"
   ]
  },
  {
   "cell_type": "code",
   "execution_count": 15,
   "metadata": {},
   "outputs": [
    {
     "name": "stdout",
     "output_type": "stream",
     "text": [
      "DF1 Throughput\n",
      "Expected rate: 0.01, Calculated rate 459373.92\n",
      "\n",
      "\n",
      "DF2 Throughput\n",
      "Expected rate: 0.05, Calculated rate 440280.32\n",
      "\n",
      "\n",
      "DF1 Throughput\n",
      "Expected rate: 0.2, Calculated rate 371211.6\n",
      "\n",
      "\n"
     ]
    }
   ],
   "source": [
    "print(\"DF1 Throughput\")\n",
    "print(f'Expected rate: 0.01, Calculated rate {analyze_throughput(df_aggregate1)}')\n",
    "print(\"\\n\")\n",
    "\n",
    "print(\"DF2 Throughput\")\n",
    "print(f'Expected rate: 0.05, Calculated rate {analyze_throughput(df_aggregate2)}')\n",
    "print(\"\\n\")\n",
    "\n",
    "print(\"DF1 Throughput\")\n",
    "print(f'Expected rate: 0.2, Calculated rate {analyze_throughput(df_aggregate3)}')\n",
    "print(\"\\n\")"
   ]
  },
  {
   "cell_type": "code",
   "execution_count": null,
   "metadata": {},
   "outputs": [],
   "source": []
  }
 ],
 "metadata": {
  "kernelspec": {
   "display_name": "Python 3",
   "language": "python",
   "name": "python3"
  },
  "language_info": {
   "codemirror_mode": {
    "name": "ipython",
    "version": 3
   },
   "file_extension": ".py",
   "mimetype": "text/x-python",
   "name": "python",
   "nbconvert_exporter": "python",
   "pygments_lexer": "ipython3",
   "version": "3.10.12"
  }
 },
 "nbformat": 4,
 "nbformat_minor": 2
}
