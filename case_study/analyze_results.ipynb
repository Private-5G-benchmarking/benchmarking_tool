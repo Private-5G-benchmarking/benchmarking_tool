{
 "cells": [
  {
   "cell_type": "code",
   "execution_count": null,
   "metadata": {
    "metadata": {}
   },
   "outputs": [],
   "source": [
    "import pandas as pd\n",
    "import plotly.express as px\n",
    "import plotly.graph_objs as go"
   ]
  },
  {
   "cell_type": "code",
   "execution_count": null,
   "metadata": {
    "metadata": {}
   },
   "outputs": [],
   "source": [
    "# columns = [\"_time\", \"_measurement\", \"packet_interarrival_time\", \"packet_jitter_weighted\", \"packet_owd\"]\n",
    "num_cols = [\"packet_interarrival_time\", \"packet_jitter_weighted\", \"packet_owd\"]\n",
    "str_cols = [\"_time\", \"_measurement\"]\n",
    "columns = num_cols + str_cols\n",
    "# df = pd.read_csv(\"cbr_low_bw_med_dur_low_pl_1_analysis.csv\", skiprows=3)[columns]\n",
    "# df.head()"
   ]
  },
  {
   "cell_type": "code",
   "execution_count": null,
   "metadata": {
    "metadata": {}
   },
   "outputs": [],
   "source": [
    "def get_aggregated_df(df, point_lim):\n",
    "    group_size = df.shape[0] // point_lim \n",
    "    df['group'] = pd.Series(range(df.shape[0])) // group_size\n",
    "\n",
    "    aggregated_mean_df = df.groupby('group')[num_cols].mean().rename(columns={col: f\"{col}_mean\" for col in num_cols})\n",
    "    aggregated_std_df = df.groupby('group')[num_cols].std().rename(columns={col: f\"{col}_std\" for col in num_cols})\n",
    "    aggregated_str_df = df.groupby('group')[str_cols].first()\n",
    "\n",
    "    aggregated_df = pd.concat([aggregated_mean_df, aggregated_std_df, aggregated_str_df], axis=1).reset_index(drop=True)\n",
    "\n",
    "    aggregated_df['timestamp'] = pd.to_datetime(aggregated_df['_time'], format=\"ISO8601\")\n",
    "    aggregated_df.set_index('timestamp', inplace=True)\n",
    "\n",
    "    min_ts = aggregated_df.index.min()\n",
    "\n",
    "    aggregated_df.index = (aggregated_df.index - min_ts).total_seconds()\n",
    "\n",
    "    return aggregated_df"
   ]
  },
  {
   "cell_type": "code",
   "execution_count": null,
   "metadata": {
    "metadata": {}
   },
   "outputs": [],
   "source": [
    "POINT_LIM = 250"
   ]
  },
  {
   "cell_type": "code",
   "execution_count": null,
   "metadata": {
    "metadata": {}
   },
   "outputs": [],
   "source": [
    "# IRRELEVANT \n",
    "fig = go.Figure()\n",
    "\n",
    "x = aggregated_df.index.values\n",
    "y = aggregated_df['packet_owd_mean']\n",
    "y_upper = aggregated_df['packet_owd_std']\n",
    "y_lower = aggregated_df['packet_owd_std']\n",
    "\n",
    "fig.add_traces(go.Scatter(\n",
    "    x=x,\n",
    "    y=y+y_upper,\n",
    "    # line_color=\"indigo\",\n",
    "    mode=\"lines\"\n",
    "))\n",
    "\n",
    "fig.add_traces(go.Scatter(\n",
    "    x=x,\n",
    "    y=y-y_lower,\n",
    "    # line_color=\"\",\n",
    "    mode=\"lines\",\n",
    "    fill=\"tonexty\"\n",
    "))\n",
    "\n",
    "fig.add_traces(go.Scatter(\n",
    "    x=x,\n",
    "    y=y,\n",
    "    line_color=\"green\",\n",
    "    mode=\"lines\"\n",
    "))\n",
    "\n",
    "# fig.add_traces(go.Scatter(x=x, y=aggregated_df['packet_owd_mean']))\n",
    "\n",
    "fig.show()"
   ]
  },
  {
   "cell_type": "code",
   "execution_count": null,
   "metadata": {
    "metadata": {}
   },
   "outputs": [],
   "source": [
    "df1, df2, df3 = \\\n",
    "    pd.read_csv(\"cbr_1000pps/cbr_low_bw_med_dur_low_pl_1_analysis.csv\", skiprows=3)[columns],\\\n",
    "    pd.read_csv(\"cbr_1000pps/cbr_low_bw_med_dur_low_pl_2_analysis.csv\", skiprows=3)[columns],\\\n",
    "    pd.read_csv(\"cbr_1000pps/cbr_low_bw_med_dur_low_pl_3_analysis.csv\", skiprows=3)[columns]\n",
    "\n",
    "agg_df1, agg_df2, agg_df3 = \\\n",
    "    get_aggregated_df(df1, POINT_LIM),\\\n",
    "    get_aggregated_df(df2, POINT_LIM),\\\n",
    "    get_aggregated_df(df3, POINT_LIM)"
   ]
  },
  {
   "cell_type": "code",
   "execution_count": null,
   "metadata": {
    "metadata": {}
   },
   "outputs": [],
   "source": [
    "new_agg_df = pd.concat([agg_df1, agg_df2, agg_df3], axis=0)"
   ]
  },
  {
   "cell_type": "code",
   "execution_count": null,
   "metadata": {
    "metadata": {}
   },
   "outputs": [],
   "source": [
    "fig = px.line(x=new_agg_df.index, y=new_agg_df['packet_owd_mean'], color=new_agg_df['_measurement'], template='simple_white')\n",
    "\n",
    "fig.update_xaxes(\n",
    "    title=\"Timestamp (s)\",\n",
    "    showline=True,\n",
    "    linecolor=\"black\",\n",
    "    linewidth=1,\n",
    "    mirror=True,\n",
    "    gridcolor=\"LightGray\",\n",
    "    showgrid=True\n",
    ")\n",
    "fig.update_yaxes(\n",
    "    title=\"One-way delay (s)\",\n",
    "    showline=True,\n",
    "    linecolor=\"black\",\n",
    "    linewidth=1,\n",
    "    mirror=True,\n",
    "    gridcolor=\"LightGray\",\n",
    "    showgrid=True\n",
    ")\n",
    "\n",
    "fig.update_layout(\n",
    "    legend_title_text=\"Run index\"\n",
    ")\n",
    "\n",
    "newLegendNames = {\n",
    "    'cbr_low_bw_med_dur_low_pl_1_analysis': '1',\n",
    "    'cbr_low_bw_med_dur_low_pl_2_analysis': '2',\n",
    "    'cbr_low_bw_med_dur_low_pl_3_analysis': '3'\n",
    "}\n",
    "\n",
    "fig.for_each_trace(lambda t: t.update(name=newLegendNames[t.name]))\n",
    "\n",
    "fig.show()"
   ]
  },
  {
   "cell_type": "code",
   "execution_count": null,
   "metadata": {},
   "outputs": [],
   "source": [
    "px.line(x=new_agg_df.index, y=new_agg_df['packet_jitter_weighted_mean'], color=new_agg_df['_measurement'])"
   ]
  },
  {
   "cell_type": "code",
   "execution_count": null,
   "metadata": {},
   "outputs": [],
   "source": [
    "agg_columns = ['_time', '_measurement', 'packet_loss', 'throughput']\n",
    "analysis_aggregate_df_1, analysis_aggregate_df_2, analysis_aggregate_df_3 = \\\n",
    "    pd.read_csv(\"cbr_1000pps/cbr_low_bw_med_dur_low_pl_1_analysis_aggregate.csv\", skiprows=3)[agg_columns],\\\n",
    "    pd.read_csv(\"cbr_1000pps/cbr_low_bw_med_dur_low_pl_2_analysis_aggregate.csv\", skiprows=3)[agg_columns],\\\n",
    "    pd.read_csv(\"cbr_1000pps/cbr_low_bw_med_dur_low_pl_3_analysis_aggregate.csv\", skiprows=3)[agg_columns]\n",
    "\n",
    "analysis_aggregate_df_1['timestamp'] = pd.to_datetime(analysis_aggregate_df_1['_time'], format=\"ISO8601\")\n",
    "analysis_aggregate_df_1.set_index('timestamp', inplace=True)\n",
    "min_ts = analysis_aggregate_df_1.index.min()\n",
    "analysis_aggregate_df_1.index = (analysis_aggregate_df_1.index - min_ts).total_seconds()\n",
    "\n",
    "analysis_aggregate_df_2['timestamp'] = pd.to_datetime(analysis_aggregate_df_2['_time'], format=\"ISO8601\")\n",
    "analysis_aggregate_df_2.set_index('timestamp', inplace=True)\n",
    "min_ts = analysis_aggregate_df_2.index.min()\n",
    "analysis_aggregate_df_2.index = (analysis_aggregate_df_2.index - min_ts).total_seconds()\n",
    "\n",
    "analysis_aggregate_df_3['timestamp'] = pd.to_datetime(analysis_aggregate_df_3['_time'], format=\"ISO8601\")\n",
    "analysis_aggregate_df_3.set_index('timestamp', inplace=True)\n",
    "min_ts = analysis_aggregate_df_3.index.min()\n",
    "analysis_aggregate_df_3.index = (analysis_aggregate_df_3.index - min_ts).total_seconds()\n",
    "\n",
    "new_agg_df_aggregate = pd.concat([analysis_aggregate_df_1, analysis_aggregate_df_2, analysis_aggregate_df_3], axis=0)"
   ]
  },
  {
   "cell_type": "code",
   "execution_count": null,
   "metadata": {},
   "outputs": [],
   "source": [
    "fig = px.line(x=new_agg_df_aggregate.index, y=new_agg_df_aggregate['packet_loss'], color=new_agg_df_aggregate['_measurement'], template='simple_white')\n",
    "\n",
    "fig.update_xaxes(\n",
    "    title=\"Timestamp (s)\",\n",
    "    showline=True,\n",
    "    linecolor=\"black\",\n",
    "    linewidth=1,\n",
    "    mirror=True,\n",
    "    gridcolor=\"LightGray\",\n",
    "    showgrid=True\n",
    ")\n",
    "fig.update_yaxes(\n",
    "    title=\"One-way delay (s)\",\n",
    "    showline=True,\n",
    "    linecolor=\"black\",\n",
    "    linewidth=1,\n",
    "    mirror=True,\n",
    "    gridcolor=\"LightGray\",\n",
    "    showgrid=True\n",
    ")\n",
    "\n",
    "fig.update_layout(\n",
    "    legend_title_text=\"Run index\"\n",
    ")\n",
    "\n",
    "newLegendNames = {\n",
    "    'cbr_low_bw_med_dur_low_pl_1_analysis_aggregate': '1',\n",
    "    'cbr_low_bw_med_dur_low_pl_2_analysis_aggregate': '2',\n",
    "    'cbr_low_bw_med_dur_low_pl_3_analysis_aggregate': '3'\n",
    "}\n",
    "\n",
    "fig.for_each_trace(lambda t: t.update(name=newLegendNames[t.name]))\n",
    "\n",
    "fig.show()"
   ]
  },
  {
   "cell_type": "code",
   "execution_count": null,
   "metadata": {},
   "outputs": [],
   "source": [
    "px.line(x=new_agg_df_aggregate.index, y=new_agg_df_aggregate['throughput'], color=new_agg_df_aggregate['_measurement'])"
   ]
  },
  {
   "cell_type": "code",
   "execution_count": null,
   "metadata": {},
   "outputs": [],
   "source": []
  }
 ],
 "metadata": {
  "kernelspec": {
   "display_name": "Python 3",
   "language": "python",
   "name": "python3"
  },
  "language_info": {
   "codemirror_mode": {
    "name": "ipython",
    "version": 3
   },
   "file_extension": ".py",
   "mimetype": "text/x-python",
   "name": "python",
   "nbconvert_exporter": "python",
   "pygments_lexer": "ipython3",
   "version": "3.10.12"
  }
 },
 "nbformat": 4,
 "nbformat_minor": 2
}
